{
 "cells": [
  {
   "cell_type": "markdown",
   "metadata": {},
   "source": [
    "# cdo_nco_draft2018a.ipynb\n",
    "\n",
    "## Purpose\n",
    "Use CDO and NCO for post-processing of CESM output data, prior to production of figures using [figures_draft2018a.ipynb](https://github.com/grandey/p17d-sulphur-eas-eqm/blob/master/analysis_draft2018a/figures_draft2018a.ipynb) \n",
    "\n",
    "## Dependencies\n",
    "- Climate Data Operators (CDO)\n",
    "- NetCDF Operators (NCO)\n",
    "- Python modules mentioned in next cell, including [lib_draft2018a.py](https://github.com/grandey/p17d-sulphur-eas-eqm/blob/master/analysis_draft2018a/lib_draft2018a.py) and its dependencies.\n",
    "\n",
    "## Data requirements\n",
    "CESM output data, post-processed to time-series format.\n",
    "\n",
    "## Author\n",
    "Benjamin S. Grandey, 2018"
   ]
  },
  {
   "cell_type": "code",
   "execution_count": 1,
   "metadata": {},
   "outputs": [
    {
     "name": "stdout",
     "output_type": "stream",
     "text": [
      "Mon Feb 19 17:07:49 +08 2018\n",
      "lib_draft2018a.py is using {'climapy': '0.1.0+b35937c', 'pandas': '0.22.0', 'xarray': '0.10.0'}\n"
     ]
    }
   ],
   "source": [
    "! date\n",
    "\n",
    "import lib_draft2018a\n",
    "import os\n",
    "\n",
    "print('lib_draft2018a.py is using {}'.format(lib_draft2018a.dependency_versions()))"
   ]
  },
  {
   "cell_type": "code",
   "execution_count": 2,
   "metadata": {},
   "outputs": [
    {
     "name": "stdout",
     "output_type": "stream",
     "text": [
      "Climate Data Operators version 1.9.1 (http://mpimet.mpg.de/cdo)\n",
      "Compiled: by root on squall2.local (x86_64-apple-darwin17.2.0) Nov  2 2017 18:28:19\n",
      "CXX Compiler: /usr/bin/clang++ -std=gnu++11 -pipe -Os -stdlib=libc++ -arch x86_64  -D_THREAD_SAFE -pthread\n",
      "CXX version : unknown\n",
      "C Compiler: /usr/bin/clang -pipe -Os -arch x86_64  -D_THREAD_SAFE -pthread\n",
      "C version : unknown\n",
      "Features: DATA PTHREADS HDF5 NC4/HDF5 OPeNDAP SZ UDUNITS2 PROJ.4 CURL FFTW3 SSE4_1\n",
      "Libraries: HDF5/1.10.1 proj/4.93 curl/7.56.1\n",
      "Filetypes: srv ext ieg grb1 nc1 nc2 nc4 nc4c nc5 \n",
      "     CDI library version : 1.9.1 of Nov  2 2017 18:27:49\n",
      " CGRIBEX library version : 1.9.0 of Sep 29 2017 10:16:02\n",
      "  NetCDF library version : 4.4.1.1 of Oct  6 2017 14:14:42 $\n",
      "    HDF5 library version : 1.10.1\n",
      " SERVICE library version : 1.4.0 of Nov  2 2017 18:27:47\n",
      "   EXTRA library version : 1.4.0 of Nov  2 2017 18:27:46\n",
      "     IEG library version : 1.4.0 of Nov  2 2017 18:27:46\n",
      "    FILE library version : 1.8.3 of Nov  2 2017 18:27:46\n",
      "\n",
      "NCO netCDF Operators version 4.6.6 built by root on squall2.local at Nov  3 2017 12:13:40\n",
      "ncks version 4.6.6\n"
     ]
    }
   ],
   "source": [
    "! cdo --version\n",
    "! ncks --version"
   ]
  },
  {
   "cell_type": "code",
   "execution_count": 3,
   "metadata": {},
   "outputs": [],
   "source": [
    "scenario_name_dict = lib_draft2018a.load_scenario_name_dict()"
   ]
  },
  {
   "cell_type": "code",
   "execution_count": 4,
   "metadata": {},
   "outputs": [],
   "source": [
    "in_dir = lib_draft2018a.output_dir  # location of output time-series\n",
    "out_dir = in_dir  # write files in same directory"
   ]
  },
  {
   "cell_type": "markdown",
   "metadata": {},
   "source": [
    "## Extract data on specific model levels"
   ]
  },
  {
   "cell_type": "code",
   "execution_count": 5,
   "metadata": {},
   "outputs": [
    {
     "name": "stdout",
     "output_type": "stream",
     "text": [
      "OMEGA_ml19, b, 2000:\n",
      "  Removing p17d_b_2000.cam.h0.OMEGA_ml19.nc\n",
      "  Selecting data for model level 19\n",
      "  Renaming variable to OMEGA_ml19\n",
      "  Written p17d_b_2000.cam.h0.OMEGA_ml19.nc\n",
      "  Removing temp_b_2000.cam.h0.OMEGA_ml19.nc\n",
      "OMEGA_ml19, b, eas0:\n",
      "  Removing p17d_b_eas0.cam.h0.OMEGA_ml19.nc\n",
      "  Selecting data for model level 19\n",
      "  Renaming variable to OMEGA_ml19\n",
      "  Written p17d_b_eas0.cam.h0.OMEGA_ml19.nc\n",
      "  Removing temp_b_eas0.cam.h0.OMEGA_ml19.nc\n",
      "OMEGA_ml19, b, eas0b:\n",
      "  Removing p17d_b_eas0b.cam.h0.OMEGA_ml19.nc\n",
      "  Selecting data for model level 19\n",
      "  Renaming variable to OMEGA_ml19\n",
      "  Written p17d_b_eas0b.cam.h0.OMEGA_ml19.nc\n",
      "  Removing temp_b_eas0b.cam.h0.OMEGA_ml19.nc\n",
      "OMEGA_ml19, b, eas0c:\n",
      "  Removing p17d_b_eas0c.cam.h0.OMEGA_ml19.nc\n",
      "  Selecting data for model level 19\n",
      "  Renaming variable to OMEGA_ml19\n",
      "  Written p17d_b_eas0c.cam.h0.OMEGA_ml19.nc\n",
      "  Removing temp_b_eas0c.cam.h0.OMEGA_ml19.nc\n",
      "U_ml27, b, 2000:\n",
      "  Removing p17d_b_2000.cam.h0.U_ml27.nc\n",
      "  Selecting data for model level 27\n",
      "  Renaming variable to U_ml27\n",
      "  Written p17d_b_2000.cam.h0.U_ml27.nc\n",
      "  Removing temp_b_2000.cam.h0.U_ml27.nc\n",
      "U_ml27, b, eas0:\n",
      "  Removing p17d_b_eas0.cam.h0.U_ml27.nc\n",
      "  Selecting data for model level 27\n",
      "  Renaming variable to U_ml27\n",
      "  Written p17d_b_eas0.cam.h0.U_ml27.nc\n",
      "  Removing temp_b_eas0.cam.h0.U_ml27.nc\n",
      "U_ml27, b, eas0b:\n",
      "  Removing p17d_b_eas0b.cam.h0.U_ml27.nc\n",
      "  Selecting data for model level 27\n",
      "  Renaming variable to U_ml27\n",
      "  Written p17d_b_eas0b.cam.h0.U_ml27.nc\n",
      "  Removing temp_b_eas0b.cam.h0.U_ml27.nc\n",
      "U_ml27, b, eas0c:\n",
      "  Removing p17d_b_eas0c.cam.h0.U_ml27.nc\n",
      "  Selecting data for model level 27\n",
      "  Renaming variable to U_ml27\n",
      "  Written p17d_b_eas0c.cam.h0.U_ml27.nc\n",
      "  Removing temp_b_eas0c.cam.h0.U_ml27.nc\n"
     ]
    }
   ],
   "source": [
    "variable_ml_forb_list = [('OMEGA', '19', 'b'),  # variable, model level, 'f' or 'b'\n",
    "                        ('U', '27', 'b')]  # ml 19 is ~525hPa; ml 27 is ~936hPa\n",
    "for variable, ml, f_or_b in variable_ml_forb_list:\n",
    "    new_variable = '{}_ml{}'.format(variable, ml)  # new variable name\n",
    "    for scenario in scenario_name_dict.keys():\n",
    "        print('{}, {}, {}:'.format(new_variable, f_or_b, scenario))\n",
    "        # Filenames\n",
    "        in_filename = '{}/p17d_{}_{}.cam.h0.{}.nc'.format(in_dir, f_or_b,\n",
    "                                                          scenario, variable)\n",
    "        out_filename = '{}/p17d_{}_{}.cam.h0.{}.nc'.format(out_dir, f_or_b,\n",
    "                                                           scenario, new_variable)\n",
    "        temp_filename = '{}/temp_{}_{}.cam.h0.{}.nc'.format(out_dir, f_or_b,\n",
    "                                                            scenario, new_variable)\n",
    "        # Remove previous out file\n",
    "        if os.path.exists(out_filename):\n",
    "            print('  Removing {}'.format(out_filename.split('/')[-1]))\n",
    "            os.remove(out_filename)\n",
    "        # Interpolate to pressure level using CDO\n",
    "        print('  Selecting data for model level {}'.format(ml))\n",
    "        ! cdo -s sellevidx,{ml} {in_filename} {temp_filename}\n",
    "        # Rename variable using NCO\n",
    "        print('  Renaming variable to {}'.format(new_variable))\n",
    "        ! ncrename -v {variable},{new_variable} {temp_filename} {out_filename} >/dev/null 2>/dev/null\n",
    "        print('  Written {}'.format(out_filename.split('/')[-1]))\n",
    "        # Remove temporary file\n",
    "        for filename in [temp_filename, ]:\n",
    "            print('  Removing {}'.format(filename.split('/')[-1]))\n",
    "            os.remove(filename)"
   ]
  },
  {
   "cell_type": "code",
   "execution_count": 6,
   "metadata": {},
   "outputs": [
    {
     "name": "stdout",
     "output_type": "stream",
     "text": [
      "Mon Feb 19 17:09:33 +08 2018\r\n"
     ]
    }
   ],
   "source": [
    "! date"
   ]
  }
 ],
 "metadata": {
  "anaconda-cloud": {},
  "kernelspec": {
   "display_name": "Python [conda root]",
   "language": "python",
   "name": "conda-root-py"
  },
  "language_info": {
   "codemirror_mode": {
    "name": "ipython",
    "version": 3
   },
   "file_extension": ".py",
   "mimetype": "text/x-python",
   "name": "python",
   "nbconvert_exporter": "python",
   "pygments_lexer": "ipython3",
   "version": "3.6.4"
  }
 },
 "nbformat": 4,
 "nbformat_minor": 2
}
