{
 "cells": [
  {
   "cell_type": "markdown",
   "metadata": {},
   "source": [
    "# figures_draft2018a.ipynb\n",
    "\n",
    "## Purpose\n",
    "Produce figures and supplementary figures for project p17d.\n",
    "\n",
    "## Dependencies\n",
    "Python modules mentioned in next cell, inlcuding [climapy](https://github.com/grandey/climapy) ([doi:10.5281/zenodo.1053020](https://doi.org/10.5281/zenodo.1053020)) and [lib_draft2018a.py](https://github.com/grandey/p17d-sulphur-eas-eqm/blob/master/analysis_draft2018a/lib_draft2018a.py) \n",
    "\n",
    "## Data requirements\n",
    "CESM output data, post-processed to time-series format.\n",
    "\n",
    "## Author\n",
    "Benjamin S. Grandey, 2018"
   ]
  },
  {
   "cell_type": "code",
   "execution_count": 1,
   "metadata": {},
   "outputs": [
    {
     "name": "stdout",
     "output_type": "stream",
     "text": [
      "Thu Feb  8 15:53:41 +08 2018\r\n"
     ]
    }
   ],
   "source": [
    "! date"
   ]
  },
  {
   "cell_type": "code",
   "execution_count": 2,
   "metadata": {},
   "outputs": [
    {
     "name": "stdout",
     "output_type": "stream",
     "text": [
      "climapy.__version__ = 0.1.0+b35937c\n",
      "numpy.__version__ = 1.13.3\n",
      "pandas.__version__ = 0.22.0\n",
      "xarray.__version__ = 0.10.0\n",
      "lib_draft2018a.py is using {'climapy': '0.1.0+b35937c', 'pandas': '0.22.0', 'xarray': '0.10.0'}\n"
     ]
    }
   ],
   "source": [
    "import climapy\n",
    "import lib_draft2018a\n",
    "import ipywidgets\n",
    "from IPython.display import display\n",
    "import matplotlib.gridspec as gridspec\n",
    "import matplotlib.pyplot as plt\n",
    "from mpl_toolkits.basemap import Basemap\n",
    "from mpl_toolkits.axes_grid1.inset_locator import inset_axes\n",
    "import numpy as np\n",
    "import os\n",
    "import pandas as pd\n",
    "from scipy import stats\n",
    "import xarray as xr\n",
    "\n",
    "# Print versions of dependencies\n",
    "for package in [climapy, np, pd, xr]:\n",
    "    try:\n",
    "        print('{}.__version__ = {}'.format(package.__name__, package.__version__))\n",
    "    except AttributeError:\n",
    "        pass\n",
    "print('lib_draft2018a.py is using {}'.format(lib_draft2018a.dependency_versions()))"
   ]
  },
  {
   "cell_type": "code",
   "execution_count": 3,
   "metadata": {},
   "outputs": [],
   "source": [
    "%matplotlib inline\n",
    "plt.rcParams['figure.dpi'] = 40  # reduce resolution of inline figures"
   ]
  },
  {
   "cell_type": "code",
   "execution_count": 4,
   "metadata": {},
   "outputs": [],
   "source": [
    "# Initialise counters to keep track of figure numbers\n",
    "figure_counter = 1  # main manuscript\n",
    "supp_figure_counter = 1  # supplementary figures\n",
    "other_figure_counter = 1  # other figures (not included in manuscript)"
   ]
  },
  {
   "cell_type": "code",
   "execution_count": 5,
   "metadata": {},
   "outputs": [],
   "source": [
    "# Load dictionaries etc from lib_draft2018a\n",
    "region_bounds_dict = lib_draft2018a.load_region_bounds_dict()\n",
    "region_long_dict = lib_draft2018a.load_region_long_dict()\n",
    "scenario_name_dict = lib_draft2018a.load_scenario_name_dict()\n",
    "variable_long_dict = lib_draft2018a.load_variable_long_dict()\n",
    "variable_symbol_dict = lib_draft2018a.load_variable_symbol_dict()\n",
    "variable_units_dict = lib_draft2018a.load_variable_units_dict()"
   ]
  },
  {
   "cell_type": "code",
   "execution_count": 6,
   "metadata": {},
   "outputs": [],
   "source": [
    "# Longitude and latitude data used later\n",
    "# Load sample data\n",
    "sample_data = lib_draft2018a.load_output().isel(year=0)\n",
    "# Set sample data equal to one - here, we are just interested in lat-lon info\n",
    "sample_data[:] = 1.\n",
    "# Shift longitudes\n",
    "sample_data = climapy.xr_shift_lon(sample_data, lon_min=-179)\n",
    "# Longitude and latitude data\n",
    "lon = sample_data['lon']\n",
    "lat = sample_data['lat']\n",
    "# Lower bound for first longitude bin (important for map)\n",
    "lon0 = (lon[0] - (lon[1]-lon[0])/2.0).values\n",
    "# Pseudo-lower bound for first latitude bin (used for stretching imshow)\n",
    "lat0 = (lat[0] - (lat[1]-lat[0])/2.0).values"
   ]
  },
  {
   "cell_type": "markdown",
   "metadata": {},
   "source": [
    "## Function to produce emissions bar chart"
   ]
  },
  {
   "cell_type": "code",
   "execution_count": 7,
   "metadata": {},
   "outputs": [
    {
     "data": {
      "image/png": "[encoded data removed]",
      "text/plain": [
       "<matplotlib.figure.Figure at 0x11d9a8160>"
      ]
     },
     "metadata": {},
     "output_type": "display_data"
    }
   ],
   "source": [
    "def emissions_bars(species='so2tot',\n",
    "                   title=None,\n",
    "                   xlabel=r'Sulphur dioxide emissions, Tg(SO$_2$) year$^{-1}$',\n",
    "                   xlim=None,\n",
    "                   ylabel=True,\n",
    "                   region='ESEAs',\n",
    "                   map_inset=True,\n",
    "                   ax=None):\n",
    "    # Create Axes if no Axes passed as an argument\n",
    "    if ax is None:\n",
    "        fig, ax = plt.subplots(1, 1, figsize=(4, 4))\n",
    "    # Dataframe to hold regional totals\n",
    "    data_df = pd.DataFrame(columns=('scenario', 'scenario_name', 'regional_total'))\n",
    "    # Loop over scenarios\n",
    "    for scenario in ['2000', 'eas0', 'eas0b', 'eas0c']:\n",
    "        # Load emissions\n",
    "        if species == 'so2tot':\n",
    "            data = (lib_draft2018a.load_emissions(species='so2', surf_or_elev='both',\n",
    "                                                  scenario=scenario, season='annual') +\n",
    "                    lib_draft2018a.load_emissions(species='so4_a1', surf_or_elev='both',\n",
    "                                                  scenario=scenario, season='annual') +\n",
    "                    lib_draft2018a.load_emissions(species='so4_a2', surf_or_elev='both',\n",
    "                                                  scenario=scenario, season='annual'))\n",
    "        else:\n",
    "            data = lib_draft2018a.load_emissions(species=species, surf_or_elev='both',\n",
    "                                                 scenario=scenario, season='annual')\n",
    "        # Calculate regional total\n",
    "        lon_bounds, lat_bounds = region_bounds_dict[region]\n",
    "        data = climapy.xr_area_weighted_stat(data, stat='sum', lon_bounds=lon_bounds,\n",
    "                                             lat_bounds=lat_bounds).values / 1e12\n",
    "        # Append to data_df\n",
    "        data_df = data_df.append({'scenario': scenario, \n",
    "                                  'scenario_name': scenario_name_dict[scenario],\n",
    "                                  'regional_total': data},\n",
    "                                  ignore_index=True)\n",
    "    # Plot bars\n",
    "    ax.barh(data_df.index, data_df['regional_total'], height=0.5,\n",
    "            color=['0.5', 'r', 'g', 'b'])\n",
    "    # Axes\n",
    "    ax.set_yticks(data_df.index)\n",
    "    ax.set_yticklabels(data_df['scenario_name'])\n",
    "    plt.gca().invert_yaxis()\n",
    "    if ylabel:\n",
    "        ax.set_ylabel('Scenario', fontsize='large')\n",
    "    if xlabel:\n",
    "        ax.set_xlabel(xlabel, fontsize='large')\n",
    "    if xlim:\n",
    "        ax.set_xlim(xlim)\n",
    "    # Annotate with values\n",
    "    for i in data_df.index:\n",
    "        text = '{:.1f}'.format(data_df.loc[i, 'regional_total'])\n",
    "        ax.text(data_df.loc[i, 'regional_total'], i,\n",
    "                text, verticalalignment='center',\n",
    "                horizontalalignment='left', fontsize='small')\n",
    "    # Title\n",
    "    if title:\n",
    "        ax.set_title(title)\n",
    "    # Insert map\n",
    "    if map_inset:\n",
    "        ax2 = inset_axes(ax, width='30%', height='30%', loc=4)\n",
    "        ax2.set_facecolor('lightsteelblue')\n",
    "        anchor = 'SE'\n",
    "        if region == 'Globe':\n",
    "            lon_bounds = [lon0, lon0+360.]\n",
    "            lat_bounds = [-90.0, 90.0]\n",
    "        else:\n",
    "            lon_bounds, lat_bounds = region_bounds_dict[region]\n",
    "        bm = Basemap(llcrnrlat=lat_bounds[0], urcrnrlat=lat_bounds[1],\n",
    "                     llcrnrlon=lon_bounds[0], urcrnrlon=lon_bounds[1],\n",
    "                     anchor=anchor)\n",
    "        bm.drawcoastlines(color='0.5')\n",
    "        bm.fillcontinents(color='white')\n",
    "    return ax\n",
    "\n",
    "# Examples\n",
    "if True:\n",
    "    emissions_bars()"
   ]
  },
  {
   "cell_type": "markdown",
   "metadata": {},
   "source": [
    "## Emissions bar chart composite figure"
   ]
  },
  {
   "cell_type": "code",
   "execution_count": 8,
   "metadata": {},
   "outputs": [
    {
     "name": "stderr",
     "output_type": "stream",
     "text": [
      "/Users/grandey/anaconda/lib/python3.6/site-packages/matplotlib/figure.py:2022: UserWarning: This figure includes Axes that are not compatible with tight_layout, so results might be incorrect.\n",
      "  warnings.warn(\"This figure includes Axes that are not compatible \"\n"
     ]
    },
    {
     "name": "stdout",
     "output_type": "stream",
     "text": [
      "Written local/f01.pdf\n"
     ]
    },
    {
     "data": {
      "image/png": "[encoded data removed]",
      "text/plain": [
       "<matplotlib.figure.Figure at 0x115f477b8>"
      ]
     },
     "metadata": {},
     "output_type": "display_data"
    }
   ],
   "source": [
    "# Set up figure\n",
    "fig = plt.figure(figsize=(12, 8))\n",
    "gs = gridspec.GridSpec(2, 3)\n",
    "# Sulphur dioxide bar charts\n",
    "species = 'so2tot'\n",
    "xlabel = r'SO$_2$ emissions, Tg(SO$_2$) year$^{-1}$'\n",
    "xlim = [0, 190]\n",
    "ax1 = emissions_bars(species=species, title='(a)',\n",
    "                     xlabel=None, xlim=xlim, ylabel=True,\n",
    "                     region='ESEAs', map_inset=True,\n",
    "                     ax=plt.subplot(gs[0, 0]))\n",
    "ax2 = emissions_bars(species=species, title='(d)',\n",
    "                     xlabel=xlabel, xlim=xlim, ylabel=True,\n",
    "                     region='Globe', map_inset=True,\n",
    "                     ax=plt.subplot(gs[1, 0]))\n",
    "# Organic carbon bar charts\n",
    "species = 'oc'\n",
    "xlabel = r'OC aerosol emissions, Tg year$^{-1}$'\n",
    "xlim = [0, 40]\n",
    "ax3 = emissions_bars(species=species, title='(b)',\n",
    "                     xlabel=None, xlim=xlim, ylabel=False,\n",
    "                     region='ESEAs', map_inset=False,\n",
    "                     ax=plt.subplot(gs[0, 1]))\n",
    "ax4 = emissions_bars(species=species, title='(e)',\n",
    "                     xlabel=xlabel, xlim=xlim, ylabel=False,\n",
    "                     region='Globe', map_inset=False,\n",
    "                     ax=plt.subplot(gs[1, 1]))\n",
    "# Black carbon bar charts\n",
    "species = 'bc'\n",
    "xlabel = r'BC aerosol emissions, Tg year$^{-1}$'\n",
    "xlim = [0, 10]\n",
    "ax5 = emissions_bars(species=species, title='(c)',\n",
    "                     xlabel=None, xlim=xlim, ylabel=False,\n",
    "                     region='ESEAs', map_inset=False,\n",
    "                     ax=plt.subplot(gs[0, 2]))\n",
    "ax6 = emissions_bars(species=species, title='(f)',\n",
    "                     xlabel=xlabel, xlim=xlim, ylabel=False,\n",
    "                     region='Globe', map_inset=False,\n",
    "                     ax=plt.subplot(gs[1, 2]))\n",
    "# Column titles\n",
    "for ax, title in zip([ax1, ax3, ax5],\n",
    "                     [r'Sulphur dioxide (SO$_2$)',\n",
    "                      r'Organic carbon (OC)',\n",
    "                      r'Black carbon (BC)']):\n",
    "    ax.text(0.5, 1.12, title,\n",
    "            transform=ax.transAxes, fontsize='large',\n",
    "            verticalalignment='bottom', horizontalalignment='center',\n",
    "            bbox={'boxstyle': 'round, pad=0.3', 'fc': '0.9', 'ec': 'k'})\n",
    "# Row titles\n",
    "for ax, title in zip([ax1, ax2],\n",
    "                     ['East and Southeast Asia\\n(modified emissions region)',\n",
    "                      'Globe']):\n",
    "    ax.text(-0.33, 0.5, title,\n",
    "            transform=ax.transAxes, fontsize='large', rotation=90,\n",
    "            verticalalignment='center', horizontalalignment='center',\n",
    "            bbox={'boxstyle': 'round, pad=0.3', 'fc': '0.9', 'ec': 'k'})\n",
    "# Prevent overlapping labels\n",
    "fig.tight_layout()\n",
    "# Save figure\n",
    "ofilename = 'local/f{:02}.pdf'.format(figure_counter)\n",
    "fig.savefig(ofilename, bbox_inches='tight', dpi=300)\n",
    "print('Written {}'.format(ofilename))\n",
    "figure_counter += 1"
   ]
  },
  {
   "cell_type": "markdown",
   "metadata": {},
   "source": [
    "## Function to produce zonal mean line plot of differences"
   ]
  },
  {
   "cell_type": "code",
   "execution_count": 9,
   "metadata": {},
   "outputs": [
    {
     "data": {
      "image/png": "[encoded data removed]",
      "text/plain": [
       "<matplotlib.figure.Figure at 0x12114c160>"
      ]
     },
     "metadata": {},
     "output_type": "display_data"
    }
   ],
   "source": [
    "def zonal_mean_line_plot(variable='PRECC+PRECL',\n",
    "                         f_or_b='b',\n",
    "                         title=None,\n",
    "                         xlabel=None,\n",
    "                         xlim=None,\n",
    "                         ylabel=None,\n",
    "                         ax=None):\n",
    "    # Create Axes if no Axes passed as an argument\n",
    "    if ax is None:\n",
    "        fig, ax = plt.subplots(1, 1, figsize=(4, 4))\n",
    "    # Load data for reference scenario\n",
    "    data = lib_draft2018a.load_output(variable=variable, scenario='2000',\n",
    "                                      f_or_b=f_or_b,\n",
    "                                      season='annual', apply_sf=True)\n",
    "    ref_zm = data.mean(dim='lon')  # zonal mean\n",
    "    data.close()\n",
    "    # Loop over other scenarios\n",
    "    for scenario, c, linestyle in zip(['eas0', 'eas0b', 'eas0c'],\n",
    "                                      ['r', 'g', 'b'],\n",
    "                                      [':', '--', '-']):\n",
    "        # Load data\n",
    "        data = lib_draft2018a.load_output(variable=variable, scenario=scenario,\n",
    "                                          f_or_b=f_or_b,\n",
    "                                          season='annual', apply_sf=True)\n",
    "        zm = data.mean(dim='lon')  # zonal mean\n",
    "        data.close()\n",
    "        # Plot line - showing mean diff across time\n",
    "        diff = (zm.mean(dim='year').data.flatten() -\n",
    "                ref_zm.mean(dim='year').data.flatten())\n",
    "        ax.plot(diff, zm['lat'].data,\n",
    "                c=c, linestyle=linestyle, alpha=1,\n",
    "                label=scenario_name_dict[scenario])\n",
    "        # Plot shading - showing standard error\n",
    "        error1 = (zm.std(dim='year', ddof=1).data.flatten() /\n",
    "                  np.sqrt(zm['year'].size))\n",
    "        error2 = (ref_zm.std(dim='year', ddof=1).data.flatten() /\n",
    "                  np.sqrt(ref_zm['year'].size))\n",
    "        error = np.sqrt(error1**2 + error2**2)\n",
    "        ax.fill_betweenx(zm['lat'].data, diff-error, diff+error,\n",
    "                         facecolor=c, alpha=0.2)\n",
    "    # Lines showing zero\n",
    "    ax.axhline(0, c='k', alpha=0.2, linewidth=1, linestyle='--')\n",
    "    ax.axvline(0, c='k', alpha=0.2, linewidth=1, linestyle='--')\n",
    "    # y-axis\n",
    "    ax.set_ylim([-90, 90])\n",
    "    ax.set_yticks(np.arange(-90, 91, 30))\n",
    "    if ylabel:\n",
    "        ax.set_ylabel(r'Latitude, $^\\circ$N', fontsize='large')\n",
    "    # x-axis\n",
    "    if xlabel:\n",
    "        ax.set_xlabel(xlabel, fontsize='large')\n",
    "    if xlim:\n",
    "        ax.set_xlim(xlim)\n",
    "    # Title and legend\n",
    "    if title:\n",
    "        ax.set_title(title, fontsize='large')\n",
    "    ax.legend()\n",
    "    return ax\n",
    "\n",
    "# Example\n",
    "if True:\n",
    "    zonal_mean_line_plot()"
   ]
  },
  {
   "cell_type": "code",
   "execution_count": null,
   "metadata": {},
   "outputs": [],
   "source": []
  }
 ],
 "metadata": {
  "anaconda-cloud": {},
  "kernelspec": {
   "display_name": "Python [conda root]",
   "language": "python",
   "name": "conda-root-py"
  },
  "language_info": {
   "codemirror_mode": {
    "name": "ipython",
    "version": 3
   },
   "file_extension": ".py",
   "mimetype": "text/x-python",
   "name": "python",
   "nbconvert_exporter": "python",
   "pygments_lexer": "ipython3",
   "version": "3.6.4"
  }
 },
 "nbformat": 4,
 "nbformat_minor": 2
}
