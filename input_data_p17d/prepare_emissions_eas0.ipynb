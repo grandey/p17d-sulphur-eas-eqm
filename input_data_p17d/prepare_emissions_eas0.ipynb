{
 "cells": [
  {
   "cell_type": "markdown",
   "metadata": {},
   "source": [
    "# prepare_emissions_eas0.ipynb\n",
    "\n",
    "## Purpose\n",
    "Prepare modified MAM3 emissions files for scenario **eas0**, as part of project [p17d-sulphur-eas-eqm](https://github.com/grandey/p17d-sulphur-eas-eqm).\n",
    "\n",
    "## Requirements\n",
    "- Standard CESM MAM3 emissions data files.\n",
    "- Python modules mentioned in next cell.\n",
    "\n",
    "## Author\n",
    "Benjamin S. Grandey, 2017"
   ]
  },
  {
   "cell_type": "code",
   "execution_count": 1,
   "metadata": {
    "collapsed": true
   },
   "outputs": [],
   "source": [
    "import datetime\n",
    "import netCDF4\n",
    "import numpy as np\n",
    "import os\n",
    "import shutil\n",
    "import stat"
   ]
  },
  {
   "cell_type": "code",
   "execution_count": 2,
   "metadata": {},
   "outputs": [],
   "source": [
    "# Location of standard CESM MAM3 emissions data\n",
    "mam3_dir = os.path.expandvars('$HOME/data/inputdataCESM/trop_mozart_aero/emis')\n",
    "\n",
    "# Define bounds for region (East and Southeast Asia)\n",
    "lon_bounds = (94, 161)\n",
    "lat_bounds = (-10, 65)\n",
    "\n",
    "# Species-level combinations that need modifying - those that contain sulphur emissions from energy/industry\n",
    "species_level_list = ['so2_elev', 'so4_a1_elev', 'num_a1_elev']"
   ]
  },
  {
   "cell_type": "code",
   "execution_count": 3,
   "metadata": {},
   "outputs": [
    {
     "name": "stdout",
     "output_type": "stream",
     "text": [
      "so2_elev\n",
      "  Editing emiss_ene\n",
      "  Editing emiss_ind\n",
      "  Written so2_elev_p17d_eas0.nc\n",
      "so4_a1_elev\n",
      "  Editing emiss_ene\n",
      "  Editing emiss_ind\n",
      "  Written so4_a1_elev_p17d_eas0.nc\n",
      "num_a1_elev\n",
      "  Editing SO4_emiss_ene\n",
      "  Editing SO4_emiss_ind\n",
      "  Written num_a1_elev_p17d_eas0.nc\n"
     ]
    }
   ],
   "source": [
    "# Loop over species_level_list\n",
    "for species_level in species_level_list:\n",
    "    print(species_level)\n",
    "    # Copy MAM3 emissions file\n",
    "    in_filename = '{}/ar5_mam3_{}_2000_c090726.nc'.format(mam3_dir, species_level)\n",
    "    out_filename = '{}_p17d_eas0.nc'.format(species_level)\n",
    "    if os.path.exists(out_filename):\n",
    "        os.remove(out_filename)\n",
    "    shutil.copy(in_filename, out_filename)\n",
    "    os.chmod(out_filename, stat.S_IROTH | stat.S_IRUSR | stat.S_IWUSR)\n",
    "    # Open file for editing\n",
    "    out_nc = netCDF4.Dataset(out_filename, 'a')\n",
    "    # Get longitude and latitude dimensions\n",
    "    lon_x = out_nc['lon'][:]\n",
    "    lat_y = out_nc['lat'][:]\n",
    "    # Indices of region bounds.\n",
    "    x_bot = np.where(lon_x >= lon_bounds[0])[0][0]\n",
    "    x_top = np.where(lon_x <= lon_bounds[1])[0][-1]\n",
    "    y_bot = np.where(lat_y >= lat_bounds[0])[0][0]\n",
    "    y_top = np.where(lat_y <= lat_bounds[1])[0][-1]\n",
    "    # Loop over variables to find energy and industry categories\n",
    "    for var_name in out_nc.variables:\n",
    "        if 'ene' in var_name or 'ind' in var_name:\n",
    "            print('  Editing {}'.format(var_name))\n",
    "            # Load data - currently assiming elevated (not surface)\n",
    "            nt, nz, ny, nx = out_nc[var_name][:].shape\n",
    "            data_tzyx = out_nc[var_name][:]\n",
    "            # Set to zero within region\n",
    "            data_tzyx[:, :, y_bot:y_top+1, x_bot:x_top+1] = 0\n",
    "            # Write modified data to file\n",
    "            out_nc[var_name][:] = data_tzyx[:]\n",
    "    # History attribute\n",
    "    out_nc.history = (datetime.datetime.now().strftime('%Y-%m-%d %H:%M:%S')+\n",
    "                       ': prepare_emissions_eas0.ipynb: created '+out_filename+\n",
    "                       ' using data from '+in_filename.split('/')[-1]+'.')\n",
    "    out_nc.created_by = 'Benjamin S. Grandey, using prepare_emissions_eas0.ipynb and ar5_mam3_* emissions files.'\n",
    "    # Close file\n",
    "    out_nc.close()\n",
    "    print('  Written {}'.format(out_filename))"
   ]
  }
 ],
 "metadata": {
  "anaconda-cloud": {},
  "kernelspec": {
   "display_name": "Python [conda root]",
   "language": "python",
   "name": "conda-root-py"
  },
  "language_info": {
   "codemirror_mode": {
    "name": "ipython",
    "version": 3
   },
   "file_extension": ".py",
   "mimetype": "text/x-python",
   "name": "python",
   "nbconvert_exporter": "python",
   "pygments_lexer": "ipython3",
   "version": "3.6.1"
  }
 },
 "nbformat": 4,
 "nbformat_minor": 2
}
